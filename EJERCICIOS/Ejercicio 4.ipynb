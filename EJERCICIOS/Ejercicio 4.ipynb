{
 "cells": [
  {
   "cell_type": "markdown",
   "metadata": {},
   "source": [
    "  # Ejercicio - Escribir declaraciones if, else, y elif"
   ]
  },
  {
   "cell_type": "markdown",
   "metadata": {},
   "source": [
    "Para este ejercicio, escribirás una lógica condicional que imprima una advertencia si un auto se acerca a la caseta de cobro demasiado rápido. Cualquier velocidad superior a 100 kilómetros por hora (km/h) merece una advertencia.\n",
    "\n",
    "Un auto se acerca, y viaja a una velocidad de 90 km/h."
   ]
  },
  {
   "cell_type": "code",
   "execution_count": null,
   "metadata": {},
   "outputs": [],
   "source": [
    "velocidad = 90\n",
    "if velocidad >100\n",
    "   print ('¡Alerta un auto se a serca con mucha velocidad!'velocidad 'km/h')\n",
    "else:\n",
    "   print ('Velocidad regular no hay nada de que preocuparse'velocidad 'km/h')   "
   ]
  },
  {
   "cell_type": "markdown",
   "metadata": {},
   "source": [
    "# Ejercicio: Uso de operadores and y or"
   ]
  },
  {
   "cell_type": "markdown",
   "metadata": {},
   "source": [
    "En el ejercicio anterior, trabajó con sentencias if, else, y elif para escribir programas con lógica condicional compleja. Para crear expresiones booleanas aún más interesantes, puede usar los operadores and y or en Python.\n",
    "\n",
    "Las expresiones and son sólo si ambas subexpresiones son verdaderas.\n",
    "\n",
    "expresión1 and expresión2\n",
    "\n",
    "Las expresiones or son True si al menos una subexpresión es verdadera.\n",
    "\n",
    "expresión1 or expresión2\n",
    "\n",
    "En este ejercicio, aprenderás información más matizada sobre cuándo el consumo de alcohol representan un peligro para las personas, y utilizarás esa información para generar un sistema de advertencia. Aquí está la información que necesitas saber:\n",
    "\n",
    "El consumo de menos de 25 grados de alcohol no representra un daño para el cuerpo.\n",
    "El consumo de hasta 40 genera una alerta.\n",
    "Si se consume más 40 grados, causaría daño.\n",
    "También consideremos que:\n",
    "\n",
    "Un peso mayor a 80 kg ayuda a umentar en 3 grados la tolerancia.\n",
    "Usando toda esta información, escribe un programa que emita la advertencia o información correcta a la gente en su consumo de alcohol. Utiliza instrucciones if, else, y elif, así como los operadores and y or y solicita al usuario ingrese la información necesaria para el cálculo vía consola."
   ]
  },
  {
   "cell_type": "code",
   "execution_count": null,
   "metadata": {},
   "outputs": [],
   "source": [
    "consumo = int(input('¿Grados de alcohol consumiste?'))\n",
    "peso = int(input('¿Cuanto pesas?'))\n",
    "if consumo > 40 and peso < 80\n",
    "   print ('¡Cuidado ingirio una cantidad peligrosa puede morirr!!!!!!!!!!')\n",
    "elif consumo > 40 and peso < 80:\n",
    "    consumo = consumo -3 \n",
    "    if consumo > 40 \n",
    "      print ('¡Cuidado ingirio una cantidad peligrosa puede morirr!!!!!!!!!!')\n",
    "    else:\n",
    "        print('Vas bien pero no abuses de la bebida')\n",
    "    elif  consumo > 25 and peso < 40:   \n",
    "        print('No ya se murio')\n",
    "    else:\n",
    "        print('Yodigo que ya le pares vete a tu casa pide un taxi no conduscas')    "
   ]
  }
 ],
 "metadata": {
  "language_info": {
   "name": "python"
  },
  "orig_nbformat": 4
 },
 "nbformat": 4,
 "nbformat_minor": 2
}
