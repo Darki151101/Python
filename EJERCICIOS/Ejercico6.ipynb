{
  "cells": [
    {
      "cell_type": "markdown",
      "metadata": {
        "id": "YWx64NiMIfdZ"
      },
      "source": [
        "## Ejercicio 1\n",
        "Escribir una función que muestre por pantalla el saludo ¡Hola amiga(o)! cada vez que se la invoque."
      ]
    },
    {
      "cell_type": "code",
      "execution_count": 3,
      "metadata": {
        "id": "3nkL6teLIvdl"
      },
      "outputs": [],
      "source": [
        "def Saludo():\n",
        "    print('¡Hola amig@!')\n",
        "    return\n",
        "    "
      ]
    },
    {
      "cell_type": "markdown",
      "metadata": {
        "id": "Sx8CECVbI1oD"
      },
      "source": [
        "## Ejercicio 2\n",
        "Escribir una función a la que se le pase una cadena nombre y muestre por pantalla el saludo ¡hola nombre!."
      ]
    },
    {
      "cell_type": "code",
      "execution_count": 4,
      "metadata": {
        "id": "ELoyrQj-JOyq"
      },
      "outputs": [
        {
          "name": "stdout",
          "output_type": "stream",
          "text": [
            "¡Hola amig@ Andrea\n"
          ]
        }
      ],
      "source": [
        "def Saludo(Nombre):\n",
        "    print('¡Hola amig@', Nombre)\n",
        "    return\n",
        "\n",
        "Nombre=Saludo('Andrea')"
      ]
    },
    {
      "cell_type": "markdown",
      "metadata": {
        "id": "Lm7Qo1eqJRGX"
      },
      "source": [
        "## Ejercicio 3\n",
        "Escribir una función que calcule el total de una factura tras aplicarle el IVA. La función debe recibir la cantidad sin IVA y el porcentaje de IVA a aplicar, y devolver el total de la factura. Si se invoca la función sin pasarle el porcentaje de IVA, deberá aplicar un 16%."
      ]
    },
    {
      "cell_type": "code",
      "execution_count": 5,
      "metadata": {
        "id": "-5uvJCB5KHSm"
      },
      "outputs": [
        {
          "name": "stdout",
          "output_type": "stream",
          "text": [
            "812.5\n",
            "725.0\n"
          ]
        }
      ],
      "source": [
        "def Factura(Precio, iva=16):\n",
        "    return Precio + Precio*iva/100\n",
        "    \n",
        "print(Factura(625,30))\n",
        "print(Factura(625))"
      ]
    },
    {
      "cell_type": "markdown",
      "metadata": {
        "id": "KKiK1kZzVpm0"
      },
      "source": [
        "## Ejercicio 4: Trabajar con argumentos en funciones\n",
        "Los argumentos requeridos en las funciones se utilizan cuando las funciones necesitan que esos argumentos funcionen correctamente.\n",
        "\n",
        "Comienza por crear una función que necesite tres lecturas de calificaciones y devuelva un informe:"
      ]
    },
    {
      "cell_type": "code",
      "execution_count": 9,
      "metadata": {
        "id": "wrLfV98GVyyJ"
      },
      "outputs": [],
      "source": [
        "def Promedio(Calif1, Calif2, Calif3):\n",
        "   Operacion=( Calif1 + Calif2 + Calif3) / 3\n",
        "   return f\"\"\" Informe de Califcaciones: \n",
        "   Promedio: {Operacion}\n",
        "   Calificacion 1: {Calif1}\n",
        "   Calificacion 2: {Calif2}\n",
        "   Calificacion 3: {Calif3}\n",
        "   \"\"\""
      ]
    },
    {
      "cell_type": "markdown",
      "metadata": {
        "id": "pBtVyatLV3CU"
      },
      "source": [
        "Ahora que hemos definido la función de informes, vamos a comprobarlo. Las calificaciones serán 8,7,10"
      ]
    },
    {
      "cell_type": "code",
      "execution_count": 19,
      "metadata": {
        "id": "jrnr_SP3WOB1"
      },
      "outputs": [
        {
          "name": "stdout",
          "output_type": "stream",
          "text": [
            " Informe de Califcaciones: \n",
            "   Promedio: 7.0\n",
            "   Calificacion 1: 5\n",
            "   Calificacion 2: 10\n",
            "   Calificacion 3: 6\n",
            "   \n"
          ]
        }
      ],
      "source": [
        "print(Promedio(5, 10 ,6))\n"
      ]
    },
    {
      "cell_type": "markdown",
      "metadata": {
        "id": "uvxEfXjBWe0g"
      },
      "source": [
        "En lugar de simplemente crear el informe, la función también está calculando el promedio. Mejora la legibilidad extrayendo el cálculo promedio de la función en una nueva función para que el promedio se pueda hacer de forma independiente:"
      ]
    },
    {
      "cell_type": "code",
      "execution_count": 37,
      "metadata": {
        "id": "paiWvAT6WlcH"
      },
      "outputs": [],
      "source": [
        "def Oper(values):\n",
        "    Total= sum(values)\n",
        "    num_de_items= len(values)\n",
        "    return  Total / num_de_items\n",
        "\n"
      ]
    },
    {
      "cell_type": "code",
      "execution_count": 52,
      "metadata": {},
      "outputs": [
        {
          "data": {
            "text/plain": [
              "7.0"
            ]
          },
          "execution_count": 52,
          "metadata": {},
          "output_type": "execute_result"
        }
      ],
      "source": [
        "Oper([5, 10 , 6])"
      ]
    },
    {
      "cell_type": "markdown",
      "metadata": {
        "id": "7_4M9H0eWoY9"
      },
      "source": [
        "Ahora actualiza la función de informes para llamando a la nueva función del promedio:"
      ]
    },
    {
      "cell_type": "code",
      "execution_count": 68,
      "metadata": {
        "id": "FchdIDElWq6y"
      },
      "outputs": [
        {
          "name": "stdout",
          "output_type": "stream",
          "text": [
            " Informe de Califcaciones: \n",
            "   Promedio: 21.0\n",
            "   Calificacion 1: 5\n",
            "   Calificacion 2: 10\n",
            "   Calificacion 3: 6\n",
            "   \n"
          ]
        }
      ],
      "source": [
        "def Promedio(Calif1, Calif2, Calif3):\n",
        "   return f\"\"\" Informe de Califcaciones: \n",
        "   Promedio: {Oper([Calif1 + Calif2 + Calif3])}\n",
        "   Calificacion 1: {Calif1}\n",
        "   Calificacion 2: {Calif2}\n",
        "   Calificacion 3: {Calif3}\n",
        "   \"\"\"\n",
        "print(Promedio(5, 10 , 6))"
      ]
    }
  ],
  "metadata": {
    "colab": {
      "name": "Untitled2.ipynb",
      "provenance": []
    },
    "kernelspec": {
      "display_name": "Python 3.10.5 64-bit",
      "language": "python",
      "name": "python3"
    },
    "language_info": {
      "codemirror_mode": {
        "name": "ipython",
        "version": 3
      },
      "file_extension": ".py",
      "mimetype": "text/x-python",
      "name": "python",
      "nbconvert_exporter": "python",
      "pygments_lexer": "ipython3",
      "version": "3.10.5"
    },
    "vscode": {
      "interpreter": {
        "hash": "67e0cbc25fa4f5baaacba1240f401bc655b640f8e15cfc935dfee2e63491bdf4"
      }
    }
  },
  "nbformat": 4,
  "nbformat_minor": 0
}
