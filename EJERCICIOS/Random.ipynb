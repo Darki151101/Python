{
 "cells": [
  {
   "cell_type": "markdown",
   "metadata": {},
   "source": [
    "Comienza agregando dos variables, una para la entrada del usuario, con el nombre nuevo_alumno, y otra variable para la lista de planetas, denominada alumnos."
   ]
  },
  {
   "cell_type": "code",
   "execution_count": null,
   "metadata": {},
   "outputs": [],
   "source": [
    "nuevo_alumno = ''\n",
    "alumnos = []"
   ]
  },
  {
   "cell_type": "markdown",
   "metadata": {},
   "source": [
    "### Crea un ciclo while\n",
    "\n",
    "Comenzando con las variables que acabas de crear, crearás un ciclo while. El ciclo while se ejecutará mientras el nuevo_alumno no sea igual a la palabra 'alto'.\n",
    "\n",
    "Dentro del ciclo, comprobarás si la variable nuevo_alumno contiene un valor, que debería ser el nombre de un alumno. Esta es una forma rápida de ver si el usuario ha introducido un valor. Si lo han hecho, tu código agregará (append) ese valor a la variable alumnos.\n",
    "\n",
    "Finalmente, usarás input para solicitar al usuario que ingrese un nuevo nombre de alumno o que escriba alto si ha terminado de ingresar nombres de alumnos. Almacenará el valor de input en la variable nuevo_alumno"
   ]
  },
  {
   "cell_type": "code",
   "execution_count": 18,
   "metadata": {},
   "outputs": [
    {
     "name": "stdout",
     "output_type": "stream",
     "text": [
      "['Fernanda', 'Carlos', 'Lola']\n",
      "['Fernanda', 'Carlos', 'Lola']\n",
      "['Fernanda', 'Carlos', 'Lola']\n"
     ]
    }
   ],
   "source": [
    "nuevo_alumno = ''\n",
    "alumnos = []\n",
    "\n",
    "nuevo_alumno = input('Ingresa el nombre del o los alumnos , escribe alto para terminar')\n",
    "\n",
    "while nuevo_alumno.lower() != 'alto':\n",
    "    if nuevo_alumno:\n",
    "        alumnos.append(nuevo_alumno)\n",
    "        nuevo_alumno = input('Ingresa el nombre del o los alumnos , escribe alto para terminar')\n",
    "\n"
   ]
  },
  {
   "cell_type": "markdown",
   "metadata": {},
   "source": [
    "### Mostrar la lista de los planetas\n",
    "La variable alumnos almacena los nombres de alumnos que ha introducido un usuario. Ahora usarás un ciclo para mostrar esas entradas.\n",
    "\n",
    "Crea un ciclo for para iterar sobre la lista alumnos. Puedes usar como nombre de la variable alumno para cada aluno. Dentro del ciclo for, recuerda utilizar print para mostrar cada alumno."
   ]
  },
  {
   "cell_type": "code",
   "execution_count": 22,
   "metadata": {},
   "outputs": [
    {
     "name": "stdout",
     "output_type": "stream",
     "text": [
      "Mercurio\n",
      "Venus\n",
      " la Tierra\n",
      "Marte\n",
      " Júpiter\n",
      " Saturno\n",
      "Urano\n",
      " Neptuno\n"
     ]
    }
   ],
   "source": [
    "planetas = ['Mercurio', 'Venus', ' la Tierra', 'Marte', ' Júpiter', ' Saturno', 'Urano', ' Neptuno']\n",
    "\n",
    "\n",
    "\n",
    "for planeta in planetas:\n",
    "    print(planeta)"
   ]
  },
  {
   "cell_type": "markdown",
   "metadata": {},
   "source": [
    "### Juego adivina el número\n",
    "Vamor a realizar el juego de adivinar el número secreto que realizamos en el módulo de pensamiento computacional, para ello necesitaremos el número que se genera de forma aleatoria, necesitaremos traer la función random"
   ]
  },
  {
   "cell_type": "code",
   "execution_count": 36,
   "metadata": {},
   "outputs": [
    {
     "name": "stdout",
     "output_type": "stream",
     "text": [
      "El numero es mayor al secreto\n",
      "LLevas 1 oportunidades\n",
      "El numero es menor al secreto\n",
      "LLevas 2 oportunidades\n",
      "El numero es mayor al secreto\n",
      "LLevas 3 oportunidades\n",
      "El numero es mayor al secreto\n",
      "LLevas 4 oportunidades\n",
      "El numero es mayor al secreto\n",
      "LLevas 5 oportunidades\n",
      "El numero es menor al secreto\n",
      "LLevas 6 oportunidades\n",
      "¡Latima suerte a la proxima!\n"
     ]
    }
   ],
   "source": [
    "import random\n",
    "numero_secreto = random.randint(1,100)\n",
    "numero_ingresado = 0\n",
    "num_opor = 0\n",
    "numero_ingresado= int(input('ingresa un numero'))\n",
    "\n",
    "while numero_secreto != numero_ingresado and num_opor < 6:\n",
    "    num_opor = num_opor + 1\n",
    "    if numero_ingresado < numero_secreto:\n",
    "        print('El numero es menor al secreto')\n",
    "    else:\n",
    "        print('El numero es mayor al secreto')    \n",
    "    print(f'LLevas {num_opor} oportunidades') \n",
    "\n",
    "    numero_ingresado = int(input('ingresa un numero')) \n",
    "\n",
    "if numero_ingresado == numero_secreto: \n",
    "    print ('¡Diablos como le atinaste!')\n",
    "else:\n",
    "    print('¡Latima suerte a la proxima!')"
   ]
  }
 ],
 "metadata": {
  "kernelspec": {
   "display_name": "Python 3.6.9 64-bit",
   "language": "python",
   "name": "python3"
  },
  "language_info": {
   "codemirror_mode": {
    "name": "ipython",
    "version": 3
   },
   "file_extension": ".py",
   "mimetype": "text/x-python",
   "name": "python",
   "nbconvert_exporter": "python",
   "pygments_lexer": "ipython3",
   "version": "3.6.9"
  },
  "orig_nbformat": 4,
  "vscode": {
   "interpreter": {
    "hash": "31f2aee4e71d21fbe5cf8b01ff0e069b9275f58929596ceb00d14d90e3e16cd6"
   }
  }
 },
 "nbformat": 4,
 "nbformat_minor": 2
}
