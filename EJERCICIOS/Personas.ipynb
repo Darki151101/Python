{
 "cells": [
  {
   "cell_type": "markdown",
   "metadata": {},
   "source": [
    "Vamos a crear una clase llamada Persona. Sus atributos son: nombre y edad; además tiene el método que nos dice si es menor o mayor de edad y también su grado máximo de estudios, el cual considera como cursados los grados previos.\n",
    "\n",
    "Muestra los datos de la persona\n",
    "\n",
    "Muestra si es mayor de edad o menor de edad\n",
    "\n",
    "Con el argumento de algún grado escolar nos diga True si lo curso o False si no lo curso."
   ]
  },
  {
   "cell_type": "code",
   "execution_count": 1,
   "metadata": {},
   "outputs": [],
   "source": [
    "class Persona:\n",
    "\n",
    "  def __init__(self, nombre, edad):\n",
    "    self.nombre=nombre\n",
    "    self.edad= edad\n",
    "    self.docescolar=[]\n",
    "\n",
    "    def Adulto(self):\n",
    "      if self.edad>17:\n",
    "        print(self.nombre, \"Es Adulto\")\n",
    "      else:\n",
    "        print(self.nombre, \"Es Menor de edad puede ser una dolecente o un niño\")\n",
    "\n",
    "    def Gradoescolar(self,docescolar):\n",
    "      return docescolar in self.docescolar\n",
    "\n",
    "      nombre = input(\"Intrudusca su nombre\")\n",
    "      edad = input(\"Dijite su edad\")\n",
    "    \n",
    "\n",
    "    persona1=Persona('Carlos',20)\n",
    "    persona1.Adulto()"
   ]
  }
 ],
 "metadata": {
  "kernelspec": {
   "display_name": "Python 3.10.5 64-bit",
   "language": "python",
   "name": "python3"
  },
  "language_info": {
   "codemirror_mode": {
    "name": "ipython",
    "version": 3
   },
   "file_extension": ".py",
   "mimetype": "text/x-python",
   "name": "python",
   "nbconvert_exporter": "python",
   "pygments_lexer": "ipython3",
   "version": "3.10.5"
  },
  "orig_nbformat": 4,
  "vscode": {
   "interpreter": {
    "hash": "67e0cbc25fa4f5baaacba1240f401bc655b640f8e15cfc935dfee2e63491bdf4"
   }
  }
 },
 "nbformat": 4,
 "nbformat_minor": 2
}
