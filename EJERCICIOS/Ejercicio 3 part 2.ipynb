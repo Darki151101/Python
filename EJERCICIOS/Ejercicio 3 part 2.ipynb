{
 "cells": [
  {
   "cell_type": "markdown",
   "metadata": {},
   "source": [
    "# DICCIONARIOS\n",
    "Para este ejercicio, crearás un diccionario que almacene información sobre paises y su población.\n",
    "\n",
    "Agrega el código para crear un nuevo diccionario denominado 'paises'. Rellena con la siguiente información:\n",
    "\n",
    "pais: México\n",
    "\n",
    "habitantes: 127.5"
   ]
  },
  {
   "cell_type": "code",
   "execution_count": null,
   "metadata": {},
   "outputs": [],
   "source": [
    "paises = {\n",
    "    'Paises' : 'México',\n",
    "    'Habitantes': 127.5\n",
    "}"
   ]
  },
  {
   "cell_type": "markdown",
   "metadata": {},
   "source": [
    "Para recuperar valores, puede utilizar el método get o corchetes ([ ]) con el nombre de la clave que desea recuperar."
   ]
  },
  {
   "cell_type": "code",
   "execution_count": null,
   "metadata": {},
   "outputs": [],
   "source": [
    "print(f  {paises.get ['pais']} Tiene {paises.get ['Habitantes']} 'miles de millones' )"
   ]
  },
  {
   "cell_type": "markdown",
   "metadata": {},
   "source": [
    "Puedes actualizar las claves existentes o crear otras nuevas utilizando el método update o entre corchetes ([ ]). Cuando se usa update, se pasa un nuevo objeto de diccionario con los valores actualizados o nuevos. Cuando se usan corchetes, se especifica el nombre de la clave y se asigna un nuevo valor.\n",
    "\n",
    "Agrega un nuevo valor con una clave de 'datos'. Este nuevo valor debería almacenar un diccionario con dos datos del país:\n",
    "\n",
    "idioma: 'español'\n",
    "\n",
    "moneda: 'peso'"
   ]
  },
  {
   "cell_type": "code",
   "execution_count": null,
   "metadata": {},
   "outputs": [],
   "source": [
    "paises['datos']{\n",
    "    'idioma': 'español' ,\n",
    "\n",
    "    'moneda': 'peso'\n",
    "}"
   ]
  },
  {
   "cell_type": "code",
   "execution_count": null,
   "metadata": {},
   "outputs": [],
   "source": [
    "print(f'{paises.get[\"pais\"]} tiene como moneda el {paises.get[\"datos\"][\"moneda\"]} y como idioma el {paises.get[\"datos\"][\"idioma\"]}')"
   ]
  }
 ],
 "metadata": {
  "language_info": {
   "name": "python"
  },
  "orig_nbformat": 4
 },
 "nbformat": 4,
 "nbformat_minor": 2
}
