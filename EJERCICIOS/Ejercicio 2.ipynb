{
 "cells": [
  {
   "cell_type": "code",
   "execution_count": 24,
   "metadata": {},
   "outputs": [
    {
     "name": "stdout",
     "output_type": "stream",
     "text": [
      "Usarios de\n",
      "Huertos\n",
      "-----------------\n",
      "Nombre:María\n",
      " Folio: 34\n"
     ]
    }
   ],
   "source": [
    "taller= 'Huertos'\n",
    "nombre= 'María'\n",
    "folio= '34'\n",
    "titulo= 'Usarios de'\n",
    "print(titulo)\n",
    "print(f'{taller}'.title())\n",
    "print('-'*17)\n",
    "multilinea= f\"\"\"Nombre:{nombre}\\n Folio: {folio}\"\"\"\n",
    "print(multilinea)\n"
   ]
  }
 ],
 "metadata": {
  "kernelspec": {
   "display_name": "Python 3.6.9 64-bit",
   "language": "python",
   "name": "python3"
  },
  "language_info": {
   "codemirror_mode": {
    "name": "ipython",
    "version": 3
   },
   "file_extension": ".py",
   "mimetype": "text/x-python",
   "name": "python",
   "nbconvert_exporter": "python",
   "pygments_lexer": "ipython3",
   "version": "3.6.9"
  },
  "orig_nbformat": 4,
  "vscode": {
   "interpreter": {
    "hash": "31f2aee4e71d21fbe5cf8b01ff0e069b9275f58929596ceb00d14d90e3e16cd6"
   }
  }
 },
 "nbformat": 4,
 "nbformat_minor": 2
}
