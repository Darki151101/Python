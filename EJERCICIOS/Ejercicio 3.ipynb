{
 "cells": [
  {
   "cell_type": "markdown",
   "metadata": {},
   "source": [
    "# Ejercicio de lista\n",
    "\n",
    "Vamos a crear y manipular una lista que contiene nombres de alumnos, esta lista contedrá los nombres siguientes: 'Juan','Pedro','Beatriz','Angel','Miguel','Paz'"
   ]
  },
  {
   "cell_type": "code",
   "execution_count": 3,
   "metadata": {},
   "outputs": [],
   "source": [
    "Alumnos=['Juan', 'Pedro','Beatriz','Angel','Miguel','Paz']\n",
    "print(Alumnos)"
   ]
  },
  {
   "cell_type": "markdown",
   "metadata": {},
   "source": [
    "# Solicita al usuario el nombre de un alumno\n",
    "\n",
    "A continuación, agrega el código para solicitar al usuario un nombre. Debido a que las cadenas distinguen entre mayúsculas y minúsculas en Python, píde al usuario que use una letra mayúscula para comenzar el nombre del alumno."
   ]
  },
  {
   "cell_type": "code",
   "execution_count": 6,
   "metadata": {},
   "outputs": [
    {
     "name": "stdout",
     "output_type": "stream",
     "text": [
      "['Juan', 'Pedro', 'Beatriz', 'Angel', 'Miguel', 'Paz', 'Carlos', 'Carlos', 'lola']\n"
     ]
    }
   ],
   "source": [
    "Alumnos.append(input('Ingresa tu nombre Inicnado por mayusculas '))\n",
    "print(Alumnos)"
   ]
  },
  {
   "cell_type": "markdown",
   "metadata": {},
   "source": [
    "# Solicita al usuario el nombre de un alumno a buscar en la lista\n",
    "\n",
    "A continuación, agrega el código para solicitar al usuario un nombre, igresa tu nombre."
   ]
  },
  {
   "cell_type": "code",
   "execution_count": 15,
   "metadata": {},
   "outputs": [],
   "source": [
    "Alumno_a_buscar = input('Ingrese el nombre del alumno(primera letra con mayuscula)')"
   ]
  },
  {
   "cell_type": "markdown",
   "metadata": {},
   "source": [
    "# Encuentra el alumno en la lista\n",
    "\n",
    "Para determinar qué alumno están más cerca que el que ingresó el usuario, debes encontrar dónde está el usuario en la lista. Puedes utilizar index para realizar esta operación. Agrega el código para encontrar el índice del alumno. (ingresa algún alumno que este en la lista)"
   ]
  },
  {
   "cell_type": "code",
   "execution_count": 16,
   "metadata": {},
   "outputs": [
    {
     "name": "stdout",
     "output_type": "stream",
     "text": [
      "El alumno  Carlos si esta en la lista\n"
     ]
    }
   ],
   "source": [
    "Alumno_index = Alumnos.index(Alumno_a_buscar)\n",
    "print('El alumno ', Alumno_a_buscar, 'si esta en la lista')"
   ]
  }
 ],
 "metadata": {
  "interpreter": {
   "hash": "67e0cbc25fa4f5baaacba1240f401bc655b640f8e15cfc935dfee2e63491bdf4"
  },
  "kernelspec": {
   "display_name": "Python 3.10.5 64-bit",
   "language": "python",
   "name": "python3"
  },
  "language_info": {
   "codemirror_mode": {
    "name": "ipython",
    "version": 3
   },
   "file_extension": ".py",
   "mimetype": "text/x-python",
   "name": "python",
   "nbconvert_exporter": "python",
   "pygments_lexer": "ipython3",
   "version": "3.10.5"
  },
  "orig_nbformat": 4
 },
 "nbformat": 4,
 "nbformat_minor": 2
}
