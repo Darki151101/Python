{
  "cells": [
    {
      "cell_type": "markdown",
      "metadata": {
        "id": "qbFgShOzJFZV"
      },
      "source": [
        "## Ejercicio 1\n",
        "Vamos a crear una clase llamada Persona. Sus atributos son: nombre, edad y RFC. Construye los siguientes métodos para la clase:\n",
        "\n",
        "Un constructor, donde los datos pueden estar vacíos. Los setters y getters para cada uno de los atributos. Hay que validar las entradas de datos.\n",
        "\n",
        "mostrar(): Muestra los datos de la persona.\n",
        "\n",
        "esMayorDeEdad(): Devuelve un valor lógico indicando si es mayor de edad.\n",
        "\n",
        "\n"
      ]
    },
    {
      "cell_type": "code",
      "execution_count": 2,
      "metadata": {
        "id": "4il5rdO7JMSg"
      },
      "outputs": [
        {
          "name": "stdout",
          "output_type": "stream",
          "text": [
            "Estos son los datos: \n",
            "Nombre:  Carlos\n",
            "Edad:  20\n",
            "RFC:  VIRJ011115C28\n",
            "Carlos, es mayor de edad\n"
          ]
        }
      ],
      "source": [
        "class Persona():\n",
        "    def __init__(self,nombre,edad,RFC):\n",
        "        self.nombre = nombre\n",
        "        self.edad = edad\n",
        "        self.RFC = RFC\n",
        "    \n",
        "    def esMayorDeEdad(self):\n",
        "        if self.edad>17:\n",
        "            print(f'{self.nombre}, es mayor de edad')\n",
        "        else:\n",
        "            print(f'{self.nombre}, es menor  de edad')\n",
        "    def imprimir(self):\n",
        "        print('Estos son los datos: ')\n",
        "        print('Nombre: ',self.nombre )\n",
        "        print('Edad: ',self.edad)\n",
        "        print('RFC: ',self.RFC)\n",
        "nombre=input('Introdsuca su nombre')\n",
        "edad=int(input('Dijite su edad'))\n",
        "RFC=input('Introdusca su RFC')\n",
        "persona1=Persona(nombre,edad,RFC)\n",
        "\n",
        "persona1.imprimir()\n",
        "persona1.esMayorDeEdad()\n"
      ]
    },
    {
      "cell_type": "markdown",
      "metadata": {
        "id": "lh97_w8SJNHG"
      },
      "source": [
        "## Ejercicio 2\n",
        "Crea una clase llamada Cuenta que tendrá los siguientes atributos: titular (que es una persona) y cantidad (puede tener decimales). El titular será obligatorio y la cantidad es opcional. Construye los siguientes métodos para la clase:\n",
        "\n",
        "Un constructor, donde los datos pueden estar vacíos. Los setters y getters para cada uno de los atributos. El atributo no se puede modificar directamente, sólo ingresando o retirando dinero. mostrar(): Muestra los datos de la cuenta. ingresar(cantidad): se ingresa una cantidad a la cuenta, si la cantidad introducida es negativa, no se hará nada. retirar(cantidad): se retira una cantidad a la cuenta. La cuenta puede estar en números rojos."
      ]
    },
    {
      "cell_type": "code",
      "execution_count": 4,
      "metadata": {
        "id": "42UP87rkJQC9"
      },
      "outputs": [
        {
          "ename": "TypeError",
          "evalue": "Retiro.__init__() missing 2 required positional arguments: 'retiro' and 'operacion'",
          "output_type": "error",
          "traceback": [
            "\u001b[1;31m---------------------------------------------------------------------------\u001b[0m",
            "\u001b[1;31mTypeError\u001b[0m                                 Traceback (most recent call last)",
            "\u001b[1;32mc:\\Users\\pc\\Documents\\python\\ejercicio7.ipynb Cell 4'\u001b[0m in \u001b[0;36m<cell line: 21>\u001b[1;34m()\u001b[0m\n\u001b[0;32m     <a href='vscode-notebook-cell:/c%3A/Users/pc/Documents/python/ejercicio7.ipynb#ch0000003?line=16'>17</a>\u001b[0m         \u001b[39mprint\u001b[39m(\u001b[39mf\u001b[39m\u001b[39m'\u001b[39m\u001b[39mLe queda en la cuenta: \u001b[39m\u001b[39m{\u001b[39;00m\u001b[39mself\u001b[39m\u001b[39m.\u001b[39moperacion\u001b[39m}\u001b[39;00m\u001b[39m'\u001b[39m)\n\u001b[0;32m     <a href='vscode-notebook-cell:/c%3A/Users/pc/Documents/python/ejercicio7.ipynb#ch0000003?line=19'>20</a>\u001b[0m retiro\u001b[39m=\u001b[39m\u001b[39mint\u001b[39m(\u001b[39minput\u001b[39m(\u001b[39m'\u001b[39m\u001b[39mDijite la cantidad a retirar\u001b[39m\u001b[39m'\u001b[39m))\n\u001b[1;32m---> <a href='vscode-notebook-cell:/c%3A/Users/pc/Documents/python/ejercicio7.ipynb#ch0000003?line=20'>21</a>\u001b[0m persona1\u001b[39m=\u001b[39mRetiro(retiro)\n\u001b[0;32m     <a href='vscode-notebook-cell:/c%3A/Users/pc/Documents/python/ejercicio7.ipynb#ch0000003?line=22'>23</a>\u001b[0m persona1\u001b[39m=\u001b[39mCuenta(\u001b[39m20000\u001b[39m)\n\u001b[0;32m     <a href='vscode-notebook-cell:/c%3A/Users/pc/Documents/python/ejercicio7.ipynb#ch0000003?line=23'>24</a>\u001b[0m persona1\u001b[39m.\u001b[39mmostrar\n",
            "\u001b[1;31mTypeError\u001b[0m: Retiro.__init__() missing 2 required positional arguments: 'retiro' and 'operacion'"
          ]
        }
      ],
      "source": [
        "class Cuenta():\n",
        "    def __init__(self,cantidad):\n",
        "        self.titular['Carlos Rodriguez']\n",
        "        self.cantidad = cantidad\n",
        "    def mostrar():\n",
        "        print(f'Informacion del titular: {self.titular}')\n",
        "        print(f'Saldo disponible: {self.cantidad}')\n",
        "\n",
        "class Retiro():\n",
        "    def __init__(self,cantidad,retiro,operacion):\n",
        "        super().__init__(cantidad)\n",
        "        self.retiro = retiro\n",
        "        self.operacion = operacion\n",
        "    def operacionretiro(self):\n",
        "        self.operacion =  self.retiro - self.cantidad \n",
        "        print(f'Usted retiro : {self.retiro}')\n",
        "        print(f'Le queda en la cuenta: {self.operacion}')\n",
        "\n",
        "\n",
        "retiro=int(input('Dijite la cantidad a retirar'))\n",
        "persona1=Retiro(retiro)\n",
        "\n",
        "persona1=Cuenta(20000)\n",
        "persona1.mostrar\n",
        "\n",
        "\n",
        "\n"
      ]
    }
  ],
  "metadata": {
    "colab": {
      "name": "ejercicio7.ipynb",
      "provenance": []
    },
    "kernelspec": {
      "display_name": "Python 3.10.5 64-bit",
      "language": "python",
      "name": "python3"
    },
    "language_info": {
      "codemirror_mode": {
        "name": "ipython",
        "version": 3
      },
      "file_extension": ".py",
      "mimetype": "text/x-python",
      "name": "python",
      "nbconvert_exporter": "python",
      "pygments_lexer": "ipython3",
      "version": "3.10.5"
    },
    "vscode": {
      "interpreter": {
        "hash": "67e0cbc25fa4f5baaacba1240f401bc655b640f8e15cfc935dfee2e63491bdf4"
      }
    }
  },
  "nbformat": 4,
  "nbformat_minor": 0
}
